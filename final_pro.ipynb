{
 "cells": [
  {
   "cell_type": "markdown",
   "metadata": {},
   "source": [
    "## Задание 1. A/B–тестирование<h2>\n",
    "**УСЛОВИЕ**\n",
    "\n",
    "Одной из основных задач аналитика в нашей команде является корректное проведение экспериментов. Для этого мы применяем метод A/B–тестирования. В ходе тестирования одной гипотезы целевой группе была предложена новая механика оплаты услуг на сайте, у контрольной группы оставалась базовая механика. В качестве задания Вам необходимо проанализировать итоги эксперимента и сделать вывод, стоит ли запускать новую механику оплаты на всех пользователей.\n",
    "\n",
    "- На какие метрики Вы смотрите в ходе анализа и почему?\n",
    "- Имеются ли различия в показателях и с чем они могут быть связаны?\n",
    "- Являются ли эти различия статистически значимыми?\n",
    "- Стоит ли запускать новую механику на всех пользователей?\n"
   ]
  },
  {
   "cell_type": "code",
   "execution_count": 1,
   "metadata": {},
   "outputs": [],
   "source": [
    "import pandas as pd\n",
    "import numpy as np\n",
    "import matplotlib.pyplot as plt\n",
    "import seaborn as sns\n",
    "%matplotlib inline\n",
    "import io\n",
    "import urllib\n",
    "import requests\n",
    "import json\n",
    "from urllib.parse import urlencode\n",
    "import scipy.stats as stats\n",
    "import pingouin as pg\n",
    "import warnings\n",
    "sns.set_style('whitegrid')"
   ]
  },
  {
   "cell_type": "markdown",
   "metadata": {},
   "source": [
    "Считываем файлы с публичной ссылки на ЯДиск и записваем их в переменные, соответствующие названиям csv файлов"
   ]
  },
  {
   "cell_type": "code",
   "execution_count": 2,
   "metadata": {},
   "outputs": [],
   "source": [
    "def read_df_API(key, delimiter):\n",
    "    base_url = 'https://cloud-api.yandex.net/v1/disk/public/resources/download?'\n",
    "    public_key = key  # Сюда вписываете вашу ссылку\n",
    "\n",
    "    # Получаем загрузочную ссылку\n",
    "    final_url = base_url + urlencode(dict(public_key=public_key))\n",
    "    response = requests.get(final_url)\n",
    "    download_url = response.json()['href']\n",
    "\n",
    "    # Загружаем файл и сохраняем его\n",
    "    download_response = requests.get(download_url)\n",
    "    file_content = download_response.content\n",
    "    string_data = file_content.decode('utf-8')\n",
    "    data_io = io.StringIO(string_data)\n",
    "    df = pd.read_csv(data_io, sep = delimiter)\n",
    "    return df\n"
   ]
  },
  {
   "cell_type": "code",
   "execution_count": 3,
   "metadata": {},
   "outputs": [
    {
     "data": {
      "text/html": [
       "<div>\n",
       "<style scoped>\n",
       "    .dataframe tbody tr th:only-of-type {\n",
       "        vertical-align: middle;\n",
       "    }\n",
       "\n",
       "    .dataframe tbody tr th {\n",
       "        vertical-align: top;\n",
       "    }\n",
       "\n",
       "    .dataframe thead th {\n",
       "        text-align: right;\n",
       "    }\n",
       "</style>\n",
       "<table border=\"1\" class=\"dataframe\">\n",
       "  <thead>\n",
       "    <tr style=\"text-align: right;\">\n",
       "      <th></th>\n",
       "      <th>id</th>\n",
       "      <th>grp</th>\n",
       "    </tr>\n",
       "  </thead>\n",
       "  <tbody>\n",
       "    <tr>\n",
       "      <th>0</th>\n",
       "      <td>1489</td>\n",
       "      <td>B</td>\n",
       "    </tr>\n",
       "    <tr>\n",
       "      <th>1</th>\n",
       "      <td>1627</td>\n",
       "      <td>A</td>\n",
       "    </tr>\n",
       "    <tr>\n",
       "      <th>2</th>\n",
       "      <td>1768</td>\n",
       "      <td>B</td>\n",
       "    </tr>\n",
       "    <tr>\n",
       "      <th>3</th>\n",
       "      <td>1783</td>\n",
       "      <td>B</td>\n",
       "    </tr>\n",
       "    <tr>\n",
       "      <th>4</th>\n",
       "      <td>1794</td>\n",
       "      <td>A</td>\n",
       "    </tr>\n",
       "    <tr>\n",
       "      <th>...</th>\n",
       "      <td>...</td>\n",
       "      <td>...</td>\n",
       "    </tr>\n",
       "    <tr>\n",
       "      <th>74479</th>\n",
       "      <td>5692459</td>\n",
       "      <td>B</td>\n",
       "    </tr>\n",
       "    <tr>\n",
       "      <th>74480</th>\n",
       "      <td>5692572</td>\n",
       "      <td>B</td>\n",
       "    </tr>\n",
       "    <tr>\n",
       "      <th>74481</th>\n",
       "      <td>5692865</td>\n",
       "      <td>B</td>\n",
       "    </tr>\n",
       "    <tr>\n",
       "      <th>74482</th>\n",
       "      <td>5693667</td>\n",
       "      <td>B</td>\n",
       "    </tr>\n",
       "    <tr>\n",
       "      <th>74483</th>\n",
       "      <td>5694419</td>\n",
       "      <td>B</td>\n",
       "    </tr>\n",
       "  </tbody>\n",
       "</table>\n",
       "<p>74484 rows × 2 columns</p>\n",
       "</div>"
      ],
      "text/plain": [
       "            id grp\n",
       "0         1489   B\n",
       "1         1627   A\n",
       "2         1768   B\n",
       "3         1783   B\n",
       "4         1794   A\n",
       "...        ...  ..\n",
       "74479  5692459   B\n",
       "74480  5692572   B\n",
       "74481  5692865   B\n",
       "74482  5693667   B\n",
       "74483  5694419   B\n",
       "\n",
       "[74484 rows x 2 columns]"
      ]
     },
     "execution_count": 3,
     "metadata": {},
     "output_type": "execute_result"
    }
   ],
   "source": [
    "key = 'https://disk.yandex.ru/d/UhyYx41rTt3clQ'\n",
    "delimiter = ';'\n",
    "group = read_df_API(key, delimiter)\n",
    "group"
   ]
  },
  {
   "cell_type": "code",
   "execution_count": 4,
   "metadata": {},
   "outputs": [
    {
     "data": {
      "text/html": [
       "<div>\n",
       "<style scoped>\n",
       "    .dataframe tbody tr th:only-of-type {\n",
       "        vertical-align: middle;\n",
       "    }\n",
       "\n",
       "    .dataframe tbody tr th {\n",
       "        vertical-align: top;\n",
       "    }\n",
       "\n",
       "    .dataframe thead th {\n",
       "        text-align: right;\n",
       "    }\n",
       "</style>\n",
       "<table border=\"1\" class=\"dataframe\">\n",
       "  <thead>\n",
       "    <tr style=\"text-align: right;\">\n",
       "      <th></th>\n",
       "      <th>id</th>\n",
       "      <th>grp</th>\n",
       "    </tr>\n",
       "  </thead>\n",
       "  <tbody>\n",
       "    <tr>\n",
       "      <th>0</th>\n",
       "      <td>5694584</td>\n",
       "      <td>B</td>\n",
       "    </tr>\n",
       "    <tr>\n",
       "      <th>1</th>\n",
       "      <td>5694830</td>\n",
       "      <td>B</td>\n",
       "    </tr>\n",
       "    <tr>\n",
       "      <th>2</th>\n",
       "      <td>5695057</td>\n",
       "      <td>B</td>\n",
       "    </tr>\n",
       "    <tr>\n",
       "      <th>3</th>\n",
       "      <td>5698872</td>\n",
       "      <td>B</td>\n",
       "    </tr>\n",
       "    <tr>\n",
       "      <th>4</th>\n",
       "      <td>5699067</td>\n",
       "      <td>B</td>\n",
       "    </tr>\n",
       "  </tbody>\n",
       "</table>\n",
       "</div>"
      ],
      "text/plain": [
       "        id grp\n",
       "0  5694584   B\n",
       "1  5694830   B\n",
       "2  5695057   B\n",
       "3  5698872   B\n",
       "4  5699067   B"
      ]
     },
     "execution_count": 4,
     "metadata": {},
     "output_type": "execute_result"
    }
   ],
   "source": [
    "key = 'https://disk.yandex.ru/d/5Kxrz02m3IBUwQ'  \n",
    "delimiter = ','\n",
    "groups_add = read_df_API(key, delimiter)\n",
    "groups_add.head()\n"
   ]
  },
  {
   "cell_type": "code",
   "execution_count": 5,
   "metadata": {},
   "outputs": [
    {
     "data": {
      "text/html": [
       "<div>\n",
       "<style scoped>\n",
       "    .dataframe tbody tr th:only-of-type {\n",
       "        vertical-align: middle;\n",
       "    }\n",
       "\n",
       "    .dataframe tbody tr th {\n",
       "        vertical-align: top;\n",
       "    }\n",
       "\n",
       "    .dataframe thead th {\n",
       "        text-align: right;\n",
       "    }\n",
       "</style>\n",
       "<table border=\"1\" class=\"dataframe\">\n",
       "  <thead>\n",
       "    <tr style=\"text-align: right;\">\n",
       "      <th></th>\n",
       "      <th>student_id</th>\n",
       "    </tr>\n",
       "  </thead>\n",
       "  <tbody>\n",
       "    <tr>\n",
       "      <th>0</th>\n",
       "      <td>581585</td>\n",
       "    </tr>\n",
       "    <tr>\n",
       "      <th>1</th>\n",
       "      <td>5723133</td>\n",
       "    </tr>\n",
       "    <tr>\n",
       "      <th>2</th>\n",
       "      <td>3276743</td>\n",
       "    </tr>\n",
       "    <tr>\n",
       "      <th>3</th>\n",
       "      <td>4238589</td>\n",
       "    </tr>\n",
       "    <tr>\n",
       "      <th>4</th>\n",
       "      <td>4475369</td>\n",
       "    </tr>\n",
       "  </tbody>\n",
       "</table>\n",
       "</div>"
      ],
      "text/plain": [
       "   student_id\n",
       "0      581585\n",
       "1     5723133\n",
       "2     3276743\n",
       "3     4238589\n",
       "4     4475369"
      ]
     },
     "execution_count": 5,
     "metadata": {},
     "output_type": "execute_result"
    }
   ],
   "source": [
    "key = 'https://disk.yandex.ru/d/Tbs44Bm6H_FwFQ'  \n",
    "active_studs = read_df_API(key, delimiter)\n",
    "active_studs.head()"
   ]
  },
  {
   "cell_type": "code",
   "execution_count": 6,
   "metadata": {
    "scrolled": true
   },
   "outputs": [
    {
     "data": {
      "text/html": [
       "<div>\n",
       "<style scoped>\n",
       "    .dataframe tbody tr th:only-of-type {\n",
       "        vertical-align: middle;\n",
       "    }\n",
       "\n",
       "    .dataframe tbody tr th {\n",
       "        vertical-align: top;\n",
       "    }\n",
       "\n",
       "    .dataframe thead th {\n",
       "        text-align: right;\n",
       "    }\n",
       "</style>\n",
       "<table border=\"1\" class=\"dataframe\">\n",
       "  <thead>\n",
       "    <tr style=\"text-align: right;\">\n",
       "      <th></th>\n",
       "      <th>student_id</th>\n",
       "      <th>rev</th>\n",
       "    </tr>\n",
       "  </thead>\n",
       "  <tbody>\n",
       "    <tr>\n",
       "      <th>0</th>\n",
       "      <td>1627</td>\n",
       "      <td>990.0</td>\n",
       "    </tr>\n",
       "    <tr>\n",
       "      <th>1</th>\n",
       "      <td>3185</td>\n",
       "      <td>690.0</td>\n",
       "    </tr>\n",
       "    <tr>\n",
       "      <th>2</th>\n",
       "      <td>25973</td>\n",
       "      <td>690.0</td>\n",
       "    </tr>\n",
       "    <tr>\n",
       "      <th>3</th>\n",
       "      <td>26280</td>\n",
       "      <td>690.0</td>\n",
       "    </tr>\n",
       "    <tr>\n",
       "      <th>4</th>\n",
       "      <td>100300</td>\n",
       "      <td>990.0</td>\n",
       "    </tr>\n",
       "  </tbody>\n",
       "</table>\n",
       "</div>"
      ],
      "text/plain": [
       "   student_id    rev\n",
       "0        1627  990.0\n",
       "1        3185  690.0\n",
       "2       25973  690.0\n",
       "3       26280  690.0\n",
       "4      100300  990.0"
      ]
     },
     "execution_count": 6,
     "metadata": {},
     "output_type": "execute_result"
    }
   ],
   "source": [
    "key = 'https://disk.yandex.ru/d/pH1q-VqcxXjsVA'  \n",
    "delimiter = ';'\n",
    "checks = read_df_API(key, delimiter)\n",
    "checks.head()"
   ]
  },
  {
   "cell_type": "markdown",
   "metadata": {},
   "source": [
    "Смотрим на данные: у нас 4 датасета. \n",
    "- **group** - файл с информацией о принадлежности пользователя к контрольной или экспериментальной группе (А – контроль, B – целевая группа).\n",
    "- **groups_add** - дополнительный файл с пользователями, который прислали спустя 2 дня после передачи данных.\n",
    "- **active_studs** - файл с информацией о пользователях, которые зашли на платформу в дни проведения эксперимента. \n",
    "- **checks** - файл с информацией об оплатах пользователей в дни проведения эксперимента.\n",
    "\n",
    "План действий:\n",
    "1. Объединяем 2 датасета с информацией о принадлежности методом pd.concat()(*добавление строк в датафрейм*)\n",
    "2. Объединяем получившийся датасет с датасетом active_studs методом merge()(*добавление стролбцов в датафрейм по ключевому полю*). Используя аргумент how = 'left', отсечем id, которые не появлялись в день эксперимента.\n",
    "3.  Объединяем получившийся датасет с датасетом checks методом merge(). Получим финальный датафрейм с информацией об оплате.\n"
   ]
  },
  {
   "cell_type": "markdown",
   "metadata": {},
   "source": [
    "Смотрим на данные, проверяем типы переменных, пропущенные значения: необходима ли предобработка данных."
   ]
  },
  {
   "cell_type": "code",
   "execution_count": 7,
   "metadata": {},
   "outputs": [
    {
     "data": {
      "text/plain": [
       "id      int64\n",
       "grp    object\n",
       "dtype: object"
      ]
     },
     "execution_count": 7,
     "metadata": {},
     "output_type": "execute_result"
    }
   ],
   "source": [
    "group.dtypes"
   ]
  },
  {
   "cell_type": "code",
   "execution_count": 8,
   "metadata": {},
   "outputs": [
    {
     "data": {
      "text/plain": [
       "id     0\n",
       "grp    0\n",
       "dtype: int64"
      ]
     },
     "execution_count": 8,
     "metadata": {},
     "output_type": "execute_result"
    }
   ],
   "source": [
    "group.isna().sum()"
   ]
  },
  {
   "cell_type": "code",
   "execution_count": 9,
   "metadata": {
    "scrolled": true
   },
   "outputs": [
    {
     "data": {
      "text/plain": [
       "id      int64\n",
       "grp    object\n",
       "dtype: object"
      ]
     },
     "execution_count": 9,
     "metadata": {},
     "output_type": "execute_result"
    }
   ],
   "source": [
    "groups_add.dtypes"
   ]
  },
  {
   "cell_type": "code",
   "execution_count": 10,
   "metadata": {},
   "outputs": [
    {
     "data": {
      "text/plain": [
       "id     0\n",
       "grp    0\n",
       "dtype: int64"
      ]
     },
     "execution_count": 10,
     "metadata": {},
     "output_type": "execute_result"
    }
   ],
   "source": [
    "groups_add.isna().sum()"
   ]
  },
  {
   "cell_type": "code",
   "execution_count": 11,
   "metadata": {},
   "outputs": [
    {
     "data": {
      "text/plain": [
       "(92, 2)"
      ]
     },
     "execution_count": 11,
     "metadata": {},
     "output_type": "execute_result"
    }
   ],
   "source": [
    "groups_add.shape"
   ]
  },
  {
   "cell_type": "code",
   "execution_count": 12,
   "metadata": {},
   "outputs": [
    {
     "data": {
      "text/plain": [
       "(74484, 2)"
      ]
     },
     "execution_count": 12,
     "metadata": {},
     "output_type": "execute_result"
    }
   ],
   "source": [
    "group.shape"
   ]
  },
  {
   "cell_type": "code",
   "execution_count": 13,
   "metadata": {},
   "outputs": [],
   "source": [
    "group_fin = pd.concat([group, groups_add]) #Объединяем 2 датафрейма"
   ]
  },
  {
   "cell_type": "code",
   "execution_count": 14,
   "metadata": {},
   "outputs": [
    {
     "data": {
      "text/html": [
       "<div>\n",
       "<style scoped>\n",
       "    .dataframe tbody tr th:only-of-type {\n",
       "        vertical-align: middle;\n",
       "    }\n",
       "\n",
       "    .dataframe tbody tr th {\n",
       "        vertical-align: top;\n",
       "    }\n",
       "\n",
       "    .dataframe thead th {\n",
       "        text-align: right;\n",
       "    }\n",
       "</style>\n",
       "<table border=\"1\" class=\"dataframe\">\n",
       "  <thead>\n",
       "    <tr style=\"text-align: right;\">\n",
       "      <th></th>\n",
       "      <th>id</th>\n",
       "      <th>grp</th>\n",
       "    </tr>\n",
       "  </thead>\n",
       "  <tbody>\n",
       "    <tr>\n",
       "      <th>0</th>\n",
       "      <td>1489</td>\n",
       "      <td>B</td>\n",
       "    </tr>\n",
       "    <tr>\n",
       "      <th>1</th>\n",
       "      <td>1627</td>\n",
       "      <td>A</td>\n",
       "    </tr>\n",
       "    <tr>\n",
       "      <th>2</th>\n",
       "      <td>1768</td>\n",
       "      <td>B</td>\n",
       "    </tr>\n",
       "    <tr>\n",
       "      <th>3</th>\n",
       "      <td>1783</td>\n",
       "      <td>B</td>\n",
       "    </tr>\n",
       "    <tr>\n",
       "      <th>4</th>\n",
       "      <td>1794</td>\n",
       "      <td>A</td>\n",
       "    </tr>\n",
       "  </tbody>\n",
       "</table>\n",
       "</div>"
      ],
      "text/plain": [
       "     id grp\n",
       "0  1489   B\n",
       "1  1627   A\n",
       "2  1768   B\n",
       "3  1783   B\n",
       "4  1794   A"
      ]
     },
     "execution_count": 14,
     "metadata": {},
     "output_type": "execute_result"
    }
   ],
   "source": [
    "group_fin.head()"
   ]
  },
  {
   "cell_type": "code",
   "execution_count": 15,
   "metadata": {},
   "outputs": [
    {
     "data": {
      "text/plain": [
       "grp\n",
       "B    59883\n",
       "A    14693\n",
       "Name: count, dtype: int64"
      ]
     },
     "execution_count": 15,
     "metadata": {},
     "output_type": "execute_result"
    }
   ],
   "source": [
    "group_fin.grp.value_counts()"
   ]
  },
  {
   "cell_type": "code",
   "execution_count": 16,
   "metadata": {},
   "outputs": [
    {
     "data": {
      "text/plain": [
       "<Axes: xlabel='grp', ylabel='count'>"
      ]
     },
     "execution_count": 16,
     "metadata": {},
     "output_type": "execute_result"
    },
    {
     "data": {
      "image/png": "[encoded data removed]",
      "text/plain": [
       "<Figure size 640x480 with 1 Axes>"
      ]
     },
     "metadata": {},
     "output_type": "display_data"
    }
   ],
   "source": [
    "sns.countplot(x='grp', data = group_fin)"
   ]
  },
  {
   "cell_type": "markdown",
   "metadata": {},
   "source": [
    "Группы распределены *неравномерно*"
   ]
  },
  {
   "cell_type": "code",
   "execution_count": 17,
   "metadata": {},
   "outputs": [],
   "source": [
    "# Проверка уникальности значений столбца\n",
    "def uniqualy(df1):\n",
    "    if len(df1) == df1.nunique():\n",
    "        print('Все значения уникальны')\n",
    "    else:\n",
    "        print('Не все значения уникальны')"
   ]
  },
  {
   "cell_type": "code",
   "execution_count": 18,
   "metadata": {},
   "outputs": [
    {
     "name": "stdout",
     "output_type": "stream",
     "text": [
      "Все значения уникальны\n"
     ]
    }
   ],
   "source": [
    "uniqualy(group_fin.id)"
   ]
  },
  {
   "cell_type": "code",
   "execution_count": 19,
   "metadata": {},
   "outputs": [
    {
     "data": {
      "text/html": [
       "<div>\n",
       "<style scoped>\n",
       "    .dataframe tbody tr th:only-of-type {\n",
       "        vertical-align: middle;\n",
       "    }\n",
       "\n",
       "    .dataframe tbody tr th {\n",
       "        vertical-align: top;\n",
       "    }\n",
       "\n",
       "    .dataframe thead th {\n",
       "        text-align: right;\n",
       "    }\n",
       "</style>\n",
       "<table border=\"1\" class=\"dataframe\">\n",
       "  <thead>\n",
       "    <tr style=\"text-align: right;\">\n",
       "      <th></th>\n",
       "      <th>student_id</th>\n",
       "    </tr>\n",
       "  </thead>\n",
       "  <tbody>\n",
       "    <tr>\n",
       "      <th>0</th>\n",
       "      <td>581585</td>\n",
       "    </tr>\n",
       "    <tr>\n",
       "      <th>1</th>\n",
       "      <td>5723133</td>\n",
       "    </tr>\n",
       "    <tr>\n",
       "      <th>2</th>\n",
       "      <td>3276743</td>\n",
       "    </tr>\n",
       "    <tr>\n",
       "      <th>3</th>\n",
       "      <td>4238589</td>\n",
       "    </tr>\n",
       "    <tr>\n",
       "      <th>4</th>\n",
       "      <td>4475369</td>\n",
       "    </tr>\n",
       "  </tbody>\n",
       "</table>\n",
       "</div>"
      ],
      "text/plain": [
       "   student_id\n",
       "0      581585\n",
       "1     5723133\n",
       "2     3276743\n",
       "3     4238589\n",
       "4     4475369"
      ]
     },
     "execution_count": 19,
     "metadata": {},
     "output_type": "execute_result"
    }
   ],
   "source": [
    "active_studs.head()"
   ]
  },
  {
   "cell_type": "code",
   "execution_count": 20,
   "metadata": {},
   "outputs": [
    {
     "data": {
      "text/plain": [
       "student_id    int64\n",
       "dtype: object"
      ]
     },
     "execution_count": 20,
     "metadata": {},
     "output_type": "execute_result"
    }
   ],
   "source": [
    "active_studs.dtypes"
   ]
  },
  {
   "cell_type": "code",
   "execution_count": 21,
   "metadata": {},
   "outputs": [
    {
     "data": {
      "text/plain": [
       "student_id    8341\n",
       "dtype: int64"
      ]
     },
     "execution_count": 21,
     "metadata": {},
     "output_type": "execute_result"
    }
   ],
   "source": [
    "active_studs.count()"
   ]
  },
  {
   "cell_type": "code",
   "execution_count": 22,
   "metadata": {},
   "outputs": [
    {
     "data": {
      "text/plain": [
       "student_id    0\n",
       "dtype: int64"
      ]
     },
     "execution_count": 22,
     "metadata": {},
     "output_type": "execute_result"
    }
   ],
   "source": [
    "active_studs.isna().sum()"
   ]
  },
  {
   "cell_type": "markdown",
   "metadata": {},
   "source": [
    "Объединяем с датафреймом с информацией о принадлежности к группе. Не забываем проверить *Nan*, все ли id нашли свои данные о том, в какой они группе."
   ]
  },
  {
   "cell_type": "code",
   "execution_count": 23,
   "metadata": {},
   "outputs": [],
   "source": [
    "active_studs_group = active_studs.merge(group_fin,  left_on='student_id', right_on='id', how = 'left')"
   ]
  },
  {
   "cell_type": "code",
   "execution_count": 24,
   "metadata": {},
   "outputs": [
    {
     "data": {
      "text/html": [
       "<div>\n",
       "<style scoped>\n",
       "    .dataframe tbody tr th:only-of-type {\n",
       "        vertical-align: middle;\n",
       "    }\n",
       "\n",
       "    .dataframe tbody tr th {\n",
       "        vertical-align: top;\n",
       "    }\n",
       "\n",
       "    .dataframe thead th {\n",
       "        text-align: right;\n",
       "    }\n",
       "</style>\n",
       "<table border=\"1\" class=\"dataframe\">\n",
       "  <thead>\n",
       "    <tr style=\"text-align: right;\">\n",
       "      <th></th>\n",
       "      <th>student_id</th>\n",
       "      <th>id</th>\n",
       "      <th>grp</th>\n",
       "    </tr>\n",
       "  </thead>\n",
       "  <tbody>\n",
       "    <tr>\n",
       "      <th>0</th>\n",
       "      <td>581585</td>\n",
       "      <td>581585</td>\n",
       "      <td>A</td>\n",
       "    </tr>\n",
       "    <tr>\n",
       "      <th>1</th>\n",
       "      <td>5723133</td>\n",
       "      <td>5723133</td>\n",
       "      <td>A</td>\n",
       "    </tr>\n",
       "    <tr>\n",
       "      <th>2</th>\n",
       "      <td>3276743</td>\n",
       "      <td>3276743</td>\n",
       "      <td>B</td>\n",
       "    </tr>\n",
       "    <tr>\n",
       "      <th>3</th>\n",
       "      <td>4238589</td>\n",
       "      <td>4238589</td>\n",
       "      <td>A</td>\n",
       "    </tr>\n",
       "    <tr>\n",
       "      <th>4</th>\n",
       "      <td>4475369</td>\n",
       "      <td>4475369</td>\n",
       "      <td>B</td>\n",
       "    </tr>\n",
       "    <tr>\n",
       "      <th>...</th>\n",
       "      <td>...</td>\n",
       "      <td>...</td>\n",
       "      <td>...</td>\n",
       "    </tr>\n",
       "    <tr>\n",
       "      <th>8336</th>\n",
       "      <td>1794344</td>\n",
       "      <td>1794344</td>\n",
       "      <td>B</td>\n",
       "    </tr>\n",
       "    <tr>\n",
       "      <th>8337</th>\n",
       "      <td>296883</td>\n",
       "      <td>296883</td>\n",
       "      <td>B</td>\n",
       "    </tr>\n",
       "    <tr>\n",
       "      <th>8338</th>\n",
       "      <td>3598448</td>\n",
       "      <td>3598448</td>\n",
       "      <td>B</td>\n",
       "    </tr>\n",
       "    <tr>\n",
       "      <th>8339</th>\n",
       "      <td>3610547</td>\n",
       "      <td>3610547</td>\n",
       "      <td>B</td>\n",
       "    </tr>\n",
       "    <tr>\n",
       "      <th>8340</th>\n",
       "      <td>205705</td>\n",
       "      <td>205705</td>\n",
       "      <td>B</td>\n",
       "    </tr>\n",
       "  </tbody>\n",
       "</table>\n",
       "<p>8341 rows × 3 columns</p>\n",
       "</div>"
      ],
      "text/plain": [
       "      student_id       id grp\n",
       "0         581585   581585   A\n",
       "1        5723133  5723133   A\n",
       "2        3276743  3276743   B\n",
       "3        4238589  4238589   A\n",
       "4        4475369  4475369   B\n",
       "...          ...      ...  ..\n",
       "8336     1794344  1794344   B\n",
       "8337      296883   296883   B\n",
       "8338     3598448  3598448   B\n",
       "8339     3610547  3610547   B\n",
       "8340      205705   205705   B\n",
       "\n",
       "[8341 rows x 3 columns]"
      ]
     },
     "execution_count": 24,
     "metadata": {},
     "output_type": "execute_result"
    }
   ],
   "source": [
    "active_studs_group"
   ]
  },
  {
   "cell_type": "code",
   "execution_count": 25,
   "metadata": {},
   "outputs": [],
   "source": [
    "active_studs_group = active_studs_group.drop(['id'], axis = 1)"
   ]
  },
  {
   "cell_type": "code",
   "execution_count": 26,
   "metadata": {},
   "outputs": [
    {
     "data": {
      "text/plain": [
       "student_id    0\n",
       "grp           0\n",
       "dtype: int64"
      ]
     },
     "execution_count": 26,
     "metadata": {},
     "output_type": "execute_result"
    }
   ],
   "source": [
    "active_studs_group.isna().sum()"
   ]
  },
  {
   "cell_type": "code",
   "execution_count": 27,
   "metadata": {},
   "outputs": [
    {
     "data": {
      "text/html": [
       "<div>\n",
       "<style scoped>\n",
       "    .dataframe tbody tr th:only-of-type {\n",
       "        vertical-align: middle;\n",
       "    }\n",
       "\n",
       "    .dataframe tbody tr th {\n",
       "        vertical-align: top;\n",
       "    }\n",
       "\n",
       "    .dataframe thead th {\n",
       "        text-align: right;\n",
       "    }\n",
       "</style>\n",
       "<table border=\"1\" class=\"dataframe\">\n",
       "  <thead>\n",
       "    <tr style=\"text-align: right;\">\n",
       "      <th></th>\n",
       "      <th>student_id</th>\n",
       "      <th>rev</th>\n",
       "    </tr>\n",
       "  </thead>\n",
       "  <tbody>\n",
       "    <tr>\n",
       "      <th>0</th>\n",
       "      <td>1627</td>\n",
       "      <td>990.0</td>\n",
       "    </tr>\n",
       "    <tr>\n",
       "      <th>1</th>\n",
       "      <td>3185</td>\n",
       "      <td>690.0</td>\n",
       "    </tr>\n",
       "    <tr>\n",
       "      <th>2</th>\n",
       "      <td>25973</td>\n",
       "      <td>690.0</td>\n",
       "    </tr>\n",
       "    <tr>\n",
       "      <th>3</th>\n",
       "      <td>26280</td>\n",
       "      <td>690.0</td>\n",
       "    </tr>\n",
       "    <tr>\n",
       "      <th>4</th>\n",
       "      <td>100300</td>\n",
       "      <td>990.0</td>\n",
       "    </tr>\n",
       "    <tr>\n",
       "      <th>...</th>\n",
       "      <td>...</td>\n",
       "      <td>...</td>\n",
       "    </tr>\n",
       "    <tr>\n",
       "      <th>536</th>\n",
       "      <td>5645737</td>\n",
       "      <td>1900.0</td>\n",
       "    </tr>\n",
       "    <tr>\n",
       "      <th>537</th>\n",
       "      <td>5651566</td>\n",
       "      <td>1900.0</td>\n",
       "    </tr>\n",
       "    <tr>\n",
       "      <th>538</th>\n",
       "      <td>5662322</td>\n",
       "      <td>1900.0</td>\n",
       "    </tr>\n",
       "    <tr>\n",
       "      <th>539</th>\n",
       "      <td>5681918</td>\n",
       "      <td>1900.0</td>\n",
       "    </tr>\n",
       "    <tr>\n",
       "      <th>540</th>\n",
       "      <td>5740903</td>\n",
       "      <td>1900.0</td>\n",
       "    </tr>\n",
       "  </tbody>\n",
       "</table>\n",
       "<p>541 rows × 2 columns</p>\n",
       "</div>"
      ],
      "text/plain": [
       "     student_id     rev\n",
       "0          1627   990.0\n",
       "1          3185   690.0\n",
       "2         25973   690.0\n",
       "3         26280   690.0\n",
       "4        100300   990.0\n",
       "..          ...     ...\n",
       "536     5645737  1900.0\n",
       "537     5651566  1900.0\n",
       "538     5662322  1900.0\n",
       "539     5681918  1900.0\n",
       "540     5740903  1900.0\n",
       "\n",
       "[541 rows x 2 columns]"
      ]
     },
     "execution_count": 27,
     "metadata": {},
     "output_type": "execute_result"
    }
   ],
   "source": [
    "checks"
   ]
  },
  {
   "cell_type": "code",
   "execution_count": 28,
   "metadata": {},
   "outputs": [
    {
     "data": {
      "text/html": [
       "<div>\n",
       "<style scoped>\n",
       "    .dataframe tbody tr th:only-of-type {\n",
       "        vertical-align: middle;\n",
       "    }\n",
       "\n",
       "    .dataframe tbody tr th {\n",
       "        vertical-align: top;\n",
       "    }\n",
       "\n",
       "    .dataframe thead th {\n",
       "        text-align: right;\n",
       "    }\n",
       "</style>\n",
       "<table border=\"1\" class=\"dataframe\">\n",
       "  <thead>\n",
       "    <tr style=\"text-align: right;\">\n",
       "      <th></th>\n",
       "      <th>student_id</th>\n",
       "      <th>grp</th>\n",
       "      <th>rev</th>\n",
       "    </tr>\n",
       "  </thead>\n",
       "  <tbody>\n",
       "    <tr>\n",
       "      <th>0</th>\n",
       "      <td>581585</td>\n",
       "      <td>A</td>\n",
       "      <td>NaN</td>\n",
       "    </tr>\n",
       "    <tr>\n",
       "      <th>1</th>\n",
       "      <td>5723133</td>\n",
       "      <td>A</td>\n",
       "      <td>NaN</td>\n",
       "    </tr>\n",
       "    <tr>\n",
       "      <th>2</th>\n",
       "      <td>3276743</td>\n",
       "      <td>B</td>\n",
       "      <td>NaN</td>\n",
       "    </tr>\n",
       "    <tr>\n",
       "      <th>3</th>\n",
       "      <td>4238589</td>\n",
       "      <td>A</td>\n",
       "      <td>NaN</td>\n",
       "    </tr>\n",
       "    <tr>\n",
       "      <th>4</th>\n",
       "      <td>4475369</td>\n",
       "      <td>B</td>\n",
       "      <td>NaN</td>\n",
       "    </tr>\n",
       "    <tr>\n",
       "      <th>...</th>\n",
       "      <td>...</td>\n",
       "      <td>...</td>\n",
       "      <td>...</td>\n",
       "    </tr>\n",
       "    <tr>\n",
       "      <th>8485</th>\n",
       "      <td>5291900</td>\n",
       "      <td>NaN</td>\n",
       "      <td>199.0</td>\n",
       "    </tr>\n",
       "    <tr>\n",
       "      <th>8486</th>\n",
       "      <td>5331842</td>\n",
       "      <td>NaN</td>\n",
       "      <td>290.0</td>\n",
       "    </tr>\n",
       "    <tr>\n",
       "      <th>8487</th>\n",
       "      <td>5486319</td>\n",
       "      <td>NaN</td>\n",
       "      <td>199.0</td>\n",
       "    </tr>\n",
       "    <tr>\n",
       "      <th>8488</th>\n",
       "      <td>5562806</td>\n",
       "      <td>NaN</td>\n",
       "      <td>398.0</td>\n",
       "    </tr>\n",
       "    <tr>\n",
       "      <th>8489</th>\n",
       "      <td>5599663</td>\n",
       "      <td>NaN</td>\n",
       "      <td>1900.0</td>\n",
       "    </tr>\n",
       "  </tbody>\n",
       "</table>\n",
       "<p>8490 rows × 3 columns</p>\n",
       "</div>"
      ],
      "text/plain": [
       "      student_id  grp     rev\n",
       "0         581585    A     NaN\n",
       "1        5723133    A     NaN\n",
       "2        3276743    B     NaN\n",
       "3        4238589    A     NaN\n",
       "4        4475369    B     NaN\n",
       "...          ...  ...     ...\n",
       "8485     5291900  NaN   199.0\n",
       "8486     5331842  NaN   290.0\n",
       "8487     5486319  NaN   199.0\n",
       "8488     5562806  NaN   398.0\n",
       "8489     5599663  NaN  1900.0\n",
       "\n",
       "[8490 rows x 3 columns]"
      ]
     },
     "execution_count": 28,
     "metadata": {},
     "output_type": "execute_result"
    }
   ],
   "source": [
    "fin_df = active_studs_group.merge(checks, on = 'student_id', how = 'outer')\n",
    "fin_df # Получаем финальный датафрейм, Nan в колонке rev меняем на нули: пользователь был, но не оплатил."
   ]
  },
  {
   "cell_type": "code",
   "execution_count": 29,
   "metadata": {},
   "outputs": [
    {
     "data": {
      "text/plain": [
       "student_id       0\n",
       "grp            149\n",
       "rev           7949\n",
       "dtype: int64"
      ]
     },
     "execution_count": 29,
     "metadata": {},
     "output_type": "execute_result"
    }
   ],
   "source": [
    "fin_df.isna().sum()"
   ]
  },
  {
   "cell_type": "code",
   "execution_count": 30,
   "metadata": {},
   "outputs": [],
   "source": [
    "fin_df.fillna(0, inplace = True)"
   ]
  },
  {
   "cell_type": "code",
   "execution_count": 31,
   "metadata": {},
   "outputs": [
    {
     "data": {
      "text/html": [
       "<div>\n",
       "<style scoped>\n",
       "    .dataframe tbody tr th:only-of-type {\n",
       "        vertical-align: middle;\n",
       "    }\n",
       "\n",
       "    .dataframe tbody tr th {\n",
       "        vertical-align: top;\n",
       "    }\n",
       "\n",
       "    .dataframe thead th {\n",
       "        text-align: right;\n",
       "    }\n",
       "</style>\n",
       "<table border=\"1\" class=\"dataframe\">\n",
       "  <thead>\n",
       "    <tr style=\"text-align: right;\">\n",
       "      <th></th>\n",
       "      <th>student_id</th>\n",
       "      <th>grp</th>\n",
       "      <th>rev</th>\n",
       "    </tr>\n",
       "  </thead>\n",
       "  <tbody>\n",
       "    <tr>\n",
       "      <th>0</th>\n",
       "      <td>581585</td>\n",
       "      <td>A</td>\n",
       "      <td>0.0</td>\n",
       "    </tr>\n",
       "    <tr>\n",
       "      <th>1</th>\n",
       "      <td>5723133</td>\n",
       "      <td>A</td>\n",
       "      <td>0.0</td>\n",
       "    </tr>\n",
       "    <tr>\n",
       "      <th>2</th>\n",
       "      <td>3276743</td>\n",
       "      <td>B</td>\n",
       "      <td>0.0</td>\n",
       "    </tr>\n",
       "    <tr>\n",
       "      <th>3</th>\n",
       "      <td>4238589</td>\n",
       "      <td>A</td>\n",
       "      <td>0.0</td>\n",
       "    </tr>\n",
       "    <tr>\n",
       "      <th>4</th>\n",
       "      <td>4475369</td>\n",
       "      <td>B</td>\n",
       "      <td>0.0</td>\n",
       "    </tr>\n",
       "    <tr>\n",
       "      <th>...</th>\n",
       "      <td>...</td>\n",
       "      <td>...</td>\n",
       "      <td>...</td>\n",
       "    </tr>\n",
       "    <tr>\n",
       "      <th>8485</th>\n",
       "      <td>5291900</td>\n",
       "      <td>0</td>\n",
       "      <td>199.0</td>\n",
       "    </tr>\n",
       "    <tr>\n",
       "      <th>8486</th>\n",
       "      <td>5331842</td>\n",
       "      <td>0</td>\n",
       "      <td>290.0</td>\n",
       "    </tr>\n",
       "    <tr>\n",
       "      <th>8487</th>\n",
       "      <td>5486319</td>\n",
       "      <td>0</td>\n",
       "      <td>199.0</td>\n",
       "    </tr>\n",
       "    <tr>\n",
       "      <th>8488</th>\n",
       "      <td>5562806</td>\n",
       "      <td>0</td>\n",
       "      <td>398.0</td>\n",
       "    </tr>\n",
       "    <tr>\n",
       "      <th>8489</th>\n",
       "      <td>5599663</td>\n",
       "      <td>0</td>\n",
       "      <td>1900.0</td>\n",
       "    </tr>\n",
       "  </tbody>\n",
       "</table>\n",
       "<p>8490 rows × 3 columns</p>\n",
       "</div>"
      ],
      "text/plain": [
       "      student_id grp     rev\n",
       "0         581585   A     0.0\n",
       "1        5723133   A     0.0\n",
       "2        3276743   B     0.0\n",
       "3        4238589   A     0.0\n",
       "4        4475369   B     0.0\n",
       "...          ...  ..     ...\n",
       "8485     5291900   0   199.0\n",
       "8486     5331842   0   290.0\n",
       "8487     5486319   0   199.0\n",
       "8488     5562806   0   398.0\n",
       "8489     5599663   0  1900.0\n",
       "\n",
       "[8490 rows x 3 columns]"
      ]
     },
     "execution_count": 31,
     "metadata": {},
     "output_type": "execute_result"
    }
   ],
   "source": [
    "fin_df"
   ]
  },
  {
   "cell_type": "markdown",
   "metadata": {},
   "source": [
    "Выделим student_id, у которых не нашлась принадлежность к группе, в отдельный датафрейм."
   ]
  },
  {
   "cell_type": "code",
   "execution_count": 32,
   "metadata": {},
   "outputs": [
    {
     "data": {
      "text/html": [
       "<div>\n",
       "<style scoped>\n",
       "    .dataframe tbody tr th:only-of-type {\n",
       "        vertical-align: middle;\n",
       "    }\n",
       "\n",
       "    .dataframe tbody tr th {\n",
       "        vertical-align: top;\n",
       "    }\n",
       "\n",
       "    .dataframe thead th {\n",
       "        text-align: right;\n",
       "    }\n",
       "</style>\n",
       "<table border=\"1\" class=\"dataframe\">\n",
       "  <thead>\n",
       "    <tr style=\"text-align: right;\">\n",
       "      <th></th>\n",
       "      <th>id</th>\n",
       "      <th>group</th>\n",
       "      <th>rev</th>\n",
       "    </tr>\n",
       "  </thead>\n",
       "  <tbody>\n",
       "    <tr>\n",
       "      <th>8341</th>\n",
       "      <td>3185</td>\n",
       "      <td>0</td>\n",
       "      <td>690.0</td>\n",
       "    </tr>\n",
       "    <tr>\n",
       "      <th>8342</th>\n",
       "      <td>25973</td>\n",
       "      <td>0</td>\n",
       "      <td>690.0</td>\n",
       "    </tr>\n",
       "    <tr>\n",
       "      <th>8343</th>\n",
       "      <td>26280</td>\n",
       "      <td>0</td>\n",
       "      <td>690.0</td>\n",
       "    </tr>\n",
       "    <tr>\n",
       "      <th>8344</th>\n",
       "      <td>100645</td>\n",
       "      <td>0</td>\n",
       "      <td>630.0</td>\n",
       "    </tr>\n",
       "    <tr>\n",
       "      <th>8345</th>\n",
       "      <td>102534</td>\n",
       "      <td>0</td>\n",
       "      <td>580.0</td>\n",
       "    </tr>\n",
       "    <tr>\n",
       "      <th>...</th>\n",
       "      <td>...</td>\n",
       "      <td>...</td>\n",
       "      <td>...</td>\n",
       "    </tr>\n",
       "    <tr>\n",
       "      <th>8485</th>\n",
       "      <td>5291900</td>\n",
       "      <td>0</td>\n",
       "      <td>199.0</td>\n",
       "    </tr>\n",
       "    <tr>\n",
       "      <th>8486</th>\n",
       "      <td>5331842</td>\n",
       "      <td>0</td>\n",
       "      <td>290.0</td>\n",
       "    </tr>\n",
       "    <tr>\n",
       "      <th>8487</th>\n",
       "      <td>5486319</td>\n",
       "      <td>0</td>\n",
       "      <td>199.0</td>\n",
       "    </tr>\n",
       "    <tr>\n",
       "      <th>8488</th>\n",
       "      <td>5562806</td>\n",
       "      <td>0</td>\n",
       "      <td>398.0</td>\n",
       "    </tr>\n",
       "    <tr>\n",
       "      <th>8489</th>\n",
       "      <td>5599663</td>\n",
       "      <td>0</td>\n",
       "      <td>1900.0</td>\n",
       "    </tr>\n",
       "  </tbody>\n",
       "</table>\n",
       "<p>149 rows × 3 columns</p>\n",
       "</div>"
      ],
      "text/plain": [
       "           id group     rev\n",
       "8341     3185     0   690.0\n",
       "8342    25973     0   690.0\n",
       "8343    26280     0   690.0\n",
       "8344   100645     0   630.0\n",
       "8345   102534     0   580.0\n",
       "...       ...   ...     ...\n",
       "8485  5291900     0   199.0\n",
       "8486  5331842     0   290.0\n",
       "8487  5486319     0   199.0\n",
       "8488  5562806     0   398.0\n",
       "8489  5599663     0  1900.0\n",
       "\n",
       "[149 rows x 3 columns]"
      ]
     },
     "execution_count": 32,
     "metadata": {},
     "output_type": "execute_result"
    }
   ],
   "source": [
    "bug_id = fin_df.query('grp == 0').rename(columns={'student_id' : 'id', 'grp' : 'group'})\n",
    "bug_id"
   ]
  },
  {
   "cell_type": "markdown",
   "metadata": {},
   "source": [
    "Попробуем объединить с датафреймом, который содержит информацию о принадлежности к группе. Если в колонке id появятся данные, значит произошёл сбой на этапе формирования датафрейма active_studs(с активностью в день проведения теста), если значения не найдутся(Nan) - зашли те id, которые не распределены по группам."
   ]
  },
  {
   "cell_type": "code",
   "execution_count": 33,
   "metadata": {},
   "outputs": [
    {
     "data": {
      "text/html": [
       "<div>\n",
       "<style scoped>\n",
       "    .dataframe tbody tr th:only-of-type {\n",
       "        vertical-align: middle;\n",
       "    }\n",
       "\n",
       "    .dataframe tbody tr th {\n",
       "        vertical-align: top;\n",
       "    }\n",
       "\n",
       "    .dataframe thead th {\n",
       "        text-align: right;\n",
       "    }\n",
       "</style>\n",
       "<table border=\"1\" class=\"dataframe\">\n",
       "  <thead>\n",
       "    <tr style=\"text-align: right;\">\n",
       "      <th></th>\n",
       "      <th>id</th>\n",
       "      <th>group</th>\n",
       "      <th>rev</th>\n",
       "      <th>grp</th>\n",
       "    </tr>\n",
       "  </thead>\n",
       "  <tbody>\n",
       "    <tr>\n",
       "      <th>0</th>\n",
       "      <td>3185</td>\n",
       "      <td>0</td>\n",
       "      <td>690.0</td>\n",
       "      <td>B</td>\n",
       "    </tr>\n",
       "    <tr>\n",
       "      <th>1</th>\n",
       "      <td>25973</td>\n",
       "      <td>0</td>\n",
       "      <td>690.0</td>\n",
       "      <td>B</td>\n",
       "    </tr>\n",
       "    <tr>\n",
       "      <th>2</th>\n",
       "      <td>26280</td>\n",
       "      <td>0</td>\n",
       "      <td>690.0</td>\n",
       "      <td>B</td>\n",
       "    </tr>\n",
       "    <tr>\n",
       "      <th>3</th>\n",
       "      <td>100645</td>\n",
       "      <td>0</td>\n",
       "      <td>630.0</td>\n",
       "      <td>B</td>\n",
       "    </tr>\n",
       "    <tr>\n",
       "      <th>4</th>\n",
       "      <td>102534</td>\n",
       "      <td>0</td>\n",
       "      <td>580.0</td>\n",
       "      <td>B</td>\n",
       "    </tr>\n",
       "    <tr>\n",
       "      <th>...</th>\n",
       "      <td>...</td>\n",
       "      <td>...</td>\n",
       "      <td>...</td>\n",
       "      <td>...</td>\n",
       "    </tr>\n",
       "    <tr>\n",
       "      <th>144</th>\n",
       "      <td>5291900</td>\n",
       "      <td>0</td>\n",
       "      <td>199.0</td>\n",
       "      <td>B</td>\n",
       "    </tr>\n",
       "    <tr>\n",
       "      <th>145</th>\n",
       "      <td>5331842</td>\n",
       "      <td>0</td>\n",
       "      <td>290.0</td>\n",
       "      <td>B</td>\n",
       "    </tr>\n",
       "    <tr>\n",
       "      <th>146</th>\n",
       "      <td>5486319</td>\n",
       "      <td>0</td>\n",
       "      <td>199.0</td>\n",
       "      <td>B</td>\n",
       "    </tr>\n",
       "    <tr>\n",
       "      <th>147</th>\n",
       "      <td>5562806</td>\n",
       "      <td>0</td>\n",
       "      <td>398.0</td>\n",
       "      <td>B</td>\n",
       "    </tr>\n",
       "    <tr>\n",
       "      <th>148</th>\n",
       "      <td>5599663</td>\n",
       "      <td>0</td>\n",
       "      <td>1900.0</td>\n",
       "      <td>B</td>\n",
       "    </tr>\n",
       "  </tbody>\n",
       "</table>\n",
       "<p>149 rows × 4 columns</p>\n",
       "</div>"
      ],
      "text/plain": [
       "          id group     rev grp\n",
       "0       3185     0   690.0   B\n",
       "1      25973     0   690.0   B\n",
       "2      26280     0   690.0   B\n",
       "3     100645     0   630.0   B\n",
       "4     102534     0   580.0   B\n",
       "..       ...   ...     ...  ..\n",
       "144  5291900     0   199.0   B\n",
       "145  5331842     0   290.0   B\n",
       "146  5486319     0   199.0   B\n",
       "147  5562806     0   398.0   B\n",
       "148  5599663     0  1900.0   B\n",
       "\n",
       "[149 rows x 4 columns]"
      ]
     },
     "execution_count": 33,
     "metadata": {},
     "output_type": "execute_result"
    }
   ],
   "source": [
    "bug_id = bug_id.merge(group_fin, on = 'id', how = 'left')\n",
    "bug_id"
   ]
  },
  {
   "cell_type": "code",
   "execution_count": 34,
   "metadata": {},
   "outputs": [
    {
     "name": "stdout",
     "output_type": "stream",
     "text": [
      "Ошибки - 149, пользователей нераспределённых - 0\n"
     ]
    }
   ],
   "source": [
    "not_in_test = bug_id.grp.isna().sum()\n",
    "bug = bug_id.grp.notna().sum()\n",
    "print(f'Ошибки - {bug}, пользователей нераспределённых - {not_in_test}')"
   ]
  },
  {
   "cell_type": "markdown",
   "metadata": {},
   "source": [
    "Оставим только данные, где нет ошибок."
   ]
  },
  {
   "cell_type": "code",
   "execution_count": 35,
   "metadata": {},
   "outputs": [],
   "source": [
    "fin_df = fin_df.query('grp != 0')"
   ]
  },
  {
   "cell_type": "code",
   "execution_count": 36,
   "metadata": {},
   "outputs": [
    {
     "name": "stdout",
     "output_type": "stream",
     "text": [
      "Все значения уникальны\n"
     ]
    }
   ],
   "source": [
    "uniqualy(fin_df.student_id)"
   ]
  },
  {
   "cell_type": "markdown",
   "metadata": {},
   "source": [
    "**Вывод:** один пользователь заходил только один раз. Наиболее значимыми метриками в этом случае будут *Conversion Rate* и *Average check*."
   ]
  },
  {
   "cell_type": "markdown",
   "metadata": {},
   "source": [
    "Прежде всего посмотрим на конверсию в покупку у разных групп."
   ]
  },
  {
   "cell_type": "code",
   "execution_count": 37,
   "metadata": {},
   "outputs": [],
   "source": [
    "agg_fin_df_cr = fin_df.query('rev != 0').groupby('grp', as_index = False).agg({'student_id':'count'})\\\n",
    "    .rename(columns={'student_id':'paid'})"
   ]
  },
  {
   "cell_type": "code",
   "execution_count": 38,
   "metadata": {
    "scrolled": true
   },
   "outputs": [
    {
     "data": {
      "text/html": [
       "<div>\n",
       "<style scoped>\n",
       "    .dataframe tbody tr th:only-of-type {\n",
       "        vertical-align: middle;\n",
       "    }\n",
       "\n",
       "    .dataframe tbody tr th {\n",
       "        vertical-align: top;\n",
       "    }\n",
       "\n",
       "    .dataframe thead th {\n",
       "        text-align: right;\n",
       "    }\n",
       "</style>\n",
       "<table border=\"1\" class=\"dataframe\">\n",
       "  <thead>\n",
       "    <tr style=\"text-align: right;\">\n",
       "      <th></th>\n",
       "      <th>grp</th>\n",
       "      <th>all</th>\n",
       "    </tr>\n",
       "  </thead>\n",
       "  <tbody>\n",
       "    <tr>\n",
       "      <th>0</th>\n",
       "      <td>A</td>\n",
       "      <td>1538</td>\n",
       "    </tr>\n",
       "    <tr>\n",
       "      <th>1</th>\n",
       "      <td>B</td>\n",
       "      <td>6803</td>\n",
       "    </tr>\n",
       "  </tbody>\n",
       "</table>\n",
       "</div>"
      ],
      "text/plain": [
       "  grp   all\n",
       "0   A  1538\n",
       "1   B  6803"
      ]
     },
     "execution_count": 38,
     "metadata": {},
     "output_type": "execute_result"
    }
   ],
   "source": [
    "agg_fin_df_cr_all_students =  fin_df.groupby('grp', as_index = False).agg({'student_id':'count'})\\\n",
    "    .rename(columns={'student_id':'all'})\n",
    "agg_fin_df_cr_all_students"
   ]
  },
  {
   "cell_type": "code",
   "execution_count": 39,
   "metadata": {},
   "outputs": [
    {
     "data": {
      "text/html": [
       "<style type=\"text/css\">\n",
       "#T_63ddf_row0_col3, #T_63ddf_row1_col3 {\n",
       "  background-color: yellow;\n",
       "}\n",
       "</style>\n",
       "<table id=\"T_63ddf\">\n",
       "  <thead>\n",
       "    <tr>\n",
       "      <th class=\"blank level0\" >&nbsp;</th>\n",
       "      <th id=\"T_63ddf_level0_col0\" class=\"col_heading level0 col0\" >grp</th>\n",
       "      <th id=\"T_63ddf_level0_col1\" class=\"col_heading level0 col1\" >paid</th>\n",
       "      <th id=\"T_63ddf_level0_col2\" class=\"col_heading level0 col2\" >all</th>\n",
       "      <th id=\"T_63ddf_level0_col3\" class=\"col_heading level0 col3\" >cr</th>\n",
       "    </tr>\n",
       "  </thead>\n",
       "  <tbody>\n",
       "    <tr>\n",
       "      <th id=\"T_63ddf_level0_row0\" class=\"row_heading level0 row0\" >0</th>\n",
       "      <td id=\"T_63ddf_row0_col0\" class=\"data row0 col0\" >A</td>\n",
       "      <td id=\"T_63ddf_row0_col1\" class=\"data row0 col1\" >78</td>\n",
       "      <td id=\"T_63ddf_row0_col2\" class=\"data row0 col2\" >1538</td>\n",
       "      <td id=\"T_63ddf_row0_col3\" class=\"data row0 col3\" >5.071521</td>\n",
       "    </tr>\n",
       "    <tr>\n",
       "      <th id=\"T_63ddf_level0_row1\" class=\"row_heading level0 row1\" >1</th>\n",
       "      <td id=\"T_63ddf_row1_col0\" class=\"data row1 col0\" >B</td>\n",
       "      <td id=\"T_63ddf_row1_col1\" class=\"data row1 col1\" >314</td>\n",
       "      <td id=\"T_63ddf_row1_col2\" class=\"data row1 col2\" >6803</td>\n",
       "      <td id=\"T_63ddf_row1_col3\" class=\"data row1 col3\" >4.615611</td>\n",
       "    </tr>\n",
       "  </tbody>\n",
       "</table>\n"
      ],
      "text/plain": [
       "<pandas.io.formats.style.Styler at 0x259de8c9410>"
      ]
     },
     "execution_count": 39,
     "metadata": {},
     "output_type": "execute_result"
    }
   ],
   "source": [
    "agg_fin_df_cr = agg_fin_df_cr.merge(agg_fin_df_cr_all_students, on = 'grp')\n",
    "agg_fin_df_cr['cr'] = agg_fin_df_cr['paid'] / agg_fin_df_cr['all']*100\n",
    "\n",
    "def highlight_column(s):\n",
    "    color = 'yellow'  \n",
    "    return ['background-color: %s' % color] * len(s)\n",
    "\n",
    "styled_agg_fin_df_cr = agg_fin_df_cr.style.apply(highlight_column, subset=pd.IndexSlice[:, 'cr'])\n",
    "styled_agg_fin_df_cr"
   ]
  },
  {
   "cell_type": "markdown",
   "metadata": {},
   "source": [
    "Видим, что конверсия в покупку отличается *менее чем на 0,5%*. У целевой группы *B* конверсия меньше. Статистически значимы ли различия? Проведем тест хи-квадрат. \n",
    "- H₀: Нет статистически значимой связи между переменными. (Нулевая гипотеза)\n",
    "- H₁: Существует статистически значимая связь между переменными. (Альтернативная гипотеза)"
   ]
  },
  {
   "cell_type": "code",
   "execution_count": 40,
   "metadata": {},
   "outputs": [
    {
     "data": {
      "text/plain": [
       "(0.43612258061018483, 0.5089998823014525)"
      ]
     },
     "execution_count": 40,
     "metadata": {},
     "output_type": "execute_result"
    }
   ],
   "source": [
    "stat, p, dof, expected = stats.chi2_contingency(agg_fin_df_cr[['paid', 'all']])\n",
    "stat, p "
   ]
  },
  {
   "cell_type": "markdown",
   "metadata": {},
   "source": [
    "Значение описательной статистики, значение p-value не позволяет нам отклонить нулевую гипотезу. Мы не нашли статистически значимых различий."
   ]
  },
  {
   "cell_type": "markdown",
   "metadata": {},
   "source": [
    "Посмотрим на общую выручку."
   ]
  },
  {
   "cell_type": "code",
   "execution_count": 41,
   "metadata": {},
   "outputs": [
    {
     "data": {
      "text/html": [
       "<div>\n",
       "<style scoped>\n",
       "    .dataframe tbody tr th:only-of-type {\n",
       "        vertical-align: middle;\n",
       "    }\n",
       "\n",
       "    .dataframe tbody tr th {\n",
       "        vertical-align: top;\n",
       "    }\n",
       "\n",
       "    .dataframe thead th {\n",
       "        text-align: right;\n",
       "    }\n",
       "</style>\n",
       "<table border=\"1\" class=\"dataframe\">\n",
       "  <thead>\n",
       "    <tr style=\"text-align: right;\">\n",
       "      <th></th>\n",
       "      <th>grp</th>\n",
       "      <th>student_id</th>\n",
       "      <th>rev</th>\n",
       "    </tr>\n",
       "  </thead>\n",
       "  <tbody>\n",
       "    <tr>\n",
       "      <th>0</th>\n",
       "      <td>A</td>\n",
       "      <td>78</td>\n",
       "      <td>72820.0000</td>\n",
       "    </tr>\n",
       "    <tr>\n",
       "      <th>1</th>\n",
       "      <td>B</td>\n",
       "      <td>314</td>\n",
       "      <td>394974.0035</td>\n",
       "    </tr>\n",
       "  </tbody>\n",
       "</table>\n",
       "</div>"
      ],
      "text/plain": [
       "  grp  student_id          rev\n",
       "0   A          78   72820.0000\n",
       "1   B         314  394974.0035"
      ]
     },
     "execution_count": 41,
     "metadata": {},
     "output_type": "execute_result"
    }
   ],
   "source": [
    "agg_fin_df = fin_df.query('rev != 0').groupby('grp', as_index = False).agg({'student_id':'count', 'rev':'sum'})\n",
    "\n",
    "agg_fin_df"
   ]
  },
  {
   "cell_type": "markdown",
   "metadata": {},
   "source": [
    "В связи с тем, что изначально тестовые группы были разделены неравномерно, к тому же информация о пренадлежности к той или иной группе была присвоена до захода пользователя на страницу оплаты, значение *total revenue* не показательно (б*о*льшая группа оплативших, должна принести б*о*льшую выручку). Показательным может стать средний чек, т.к. большая разница в объёмах выборок не влияет на эту метрику."
   ]
  },
  {
   "cell_type": "code",
   "execution_count": 42,
   "metadata": {
    "scrolled": true
   },
   "outputs": [
    {
     "data": {
      "text/html": [
       "<style type=\"text/css\">\n",
       "#T_2175f_row0_col3, #T_2175f_row1_col3 {\n",
       "  background-color: yellow;\n",
       "}\n",
       "</style>\n",
       "<table id=\"T_2175f\">\n",
       "  <thead>\n",
       "    <tr>\n",
       "      <th class=\"blank level0\" >&nbsp;</th>\n",
       "      <th id=\"T_2175f_level0_col0\" class=\"col_heading level0 col0\" >grp</th>\n",
       "      <th id=\"T_2175f_level0_col1\" class=\"col_heading level0 col1\" >student_id</th>\n",
       "      <th id=\"T_2175f_level0_col2\" class=\"col_heading level0 col2\" >rev</th>\n",
       "      <th id=\"T_2175f_level0_col3\" class=\"col_heading level0 col3\" >avg_check</th>\n",
       "    </tr>\n",
       "  </thead>\n",
       "  <tbody>\n",
       "    <tr>\n",
       "      <th id=\"T_2175f_level0_row0\" class=\"row_heading level0 row0\" >0</th>\n",
       "      <td id=\"T_2175f_row0_col0\" class=\"data row0 col0\" >A</td>\n",
       "      <td id=\"T_2175f_row0_col1\" class=\"data row0 col1\" >78</td>\n",
       "      <td id=\"T_2175f_row0_col2\" class=\"data row0 col2\" >72820.000000</td>\n",
       "      <td id=\"T_2175f_row0_col3\" class=\"data row0 col3\" >933.589744</td>\n",
       "    </tr>\n",
       "    <tr>\n",
       "      <th id=\"T_2175f_level0_row1\" class=\"row_heading level0 row1\" >1</th>\n",
       "      <td id=\"T_2175f_row1_col0\" class=\"data row1 col0\" >B</td>\n",
       "      <td id=\"T_2175f_row1_col1\" class=\"data row1 col1\" >314</td>\n",
       "      <td id=\"T_2175f_row1_col2\" class=\"data row1 col2\" >394974.003500</td>\n",
       "      <td id=\"T_2175f_row1_col3\" class=\"data row1 col3\" >1257.878992</td>\n",
       "    </tr>\n",
       "  </tbody>\n",
       "</table>\n"
      ],
      "text/plain": [
       "<pandas.io.formats.style.Styler at 0x259de8c91d0>"
      ]
     },
     "execution_count": 42,
     "metadata": {},
     "output_type": "execute_result"
    }
   ],
   "source": [
    "agg_fin_df['avg_check'] = agg_fin_df.rev / agg_fin_df.student_id\n",
    "agg_fin_df = agg_fin_df.style.apply(highlight_column, subset=pd.IndexSlice[:, 'avg_check'])\n",
    "agg_fin_df\n"
   ]
  },
  {
   "cell_type": "markdown",
   "metadata": {},
   "source": [
    "Средний чек целевой группы(B) больше на 300 единиц. Построи график boxplot для визуального сравнения выборок."
   ]
  },
  {
   "cell_type": "code",
   "execution_count": 43,
   "metadata": {
    "scrolled": true
   },
   "outputs": [
    {
     "data": {
      "text/plain": [
       "<Axes: xlabel='grp', ylabel='rev'>"
      ]
     },
     "execution_count": 43,
     "metadata": {},
     "output_type": "execute_result"
    },
    {
     "data": {
      "image/png": "[encoded data removed]",
      "text/plain": [
       "<Figure size 640x480 with 1 Axes>"
      ]
     },
     "metadata": {},
     "output_type": "display_data"
    }
   ],
   "source": [
    "df_boxplot = fin_df.query('rev != 0')\n",
    "sns.boxplot(data = df_boxplot, x = 'grp', y = 'rev')\n",
    "# "
   ]
  },
  {
   "cell_type": "markdown",
   "metadata": {},
   "source": [
    " Медианные значения также очень сильно отличаются. Посмотрим на распределени."
   ]
  },
  {
   "cell_type": "code",
   "execution_count": 44,
   "metadata": {},
   "outputs": [],
   "source": [
    "df_1 = fin_df.query('grp == \"A\" & rev != 0')"
   ]
  },
  {
   "cell_type": "code",
   "execution_count": 45,
   "metadata": {},
   "outputs": [],
   "source": [
    "df_2 = fin_df.query('grp == \"B\" & rev != 0')"
   ]
  },
  {
   "cell_type": "code",
   "execution_count": 46,
   "metadata": {},
   "outputs": [
    {
     "data": {
      "image/png": "[encoded data removed]",
      "text/plain": [
       "<Figure size 640x480 with 1 Axes>"
      ]
     },
     "metadata": {},
     "output_type": "display_data"
    }
   ],
   "source": [
    "with warnings.catch_warnings(record=True):\n",
    "    sns.distplot(df_1.rev)\n",
    "    sns.distplot(df_2.rev)"
   ]
  },
  {
   "cell_type": "markdown",
   "metadata": {},
   "source": [
    "Распределение не кажется нормальным. Проведем тест на нормальность."
   ]
  },
  {
   "cell_type": "code",
   "execution_count": 47,
   "metadata": {},
   "outputs": [
    {
     "data": {
      "text/html": [
       "<div>\n",
       "<style scoped>\n",
       "    .dataframe tbody tr th:only-of-type {\n",
       "        vertical-align: middle;\n",
       "    }\n",
       "\n",
       "    .dataframe tbody tr th {\n",
       "        vertical-align: top;\n",
       "    }\n",
       "\n",
       "    .dataframe thead th {\n",
       "        text-align: right;\n",
       "    }\n",
       "</style>\n",
       "<table border=\"1\" class=\"dataframe\">\n",
       "  <thead>\n",
       "    <tr style=\"text-align: right;\">\n",
       "      <th></th>\n",
       "      <th>W</th>\n",
       "      <th>pval</th>\n",
       "      <th>normal</th>\n",
       "    </tr>\n",
       "    <tr>\n",
       "      <th>grp</th>\n",
       "      <th></th>\n",
       "      <th></th>\n",
       "      <th></th>\n",
       "    </tr>\n",
       "  </thead>\n",
       "  <tbody>\n",
       "    <tr>\n",
       "      <th>A</th>\n",
       "      <td>2240.595797</td>\n",
       "      <td>0.0</td>\n",
       "      <td>False</td>\n",
       "    </tr>\n",
       "    <tr>\n",
       "      <th>B</th>\n",
       "      <td>7797.399212</td>\n",
       "      <td>0.0</td>\n",
       "      <td>False</td>\n",
       "    </tr>\n",
       "  </tbody>\n",
       "</table>\n",
       "</div>"
      ],
      "text/plain": [
       "               W  pval  normal\n",
       "grp                           \n",
       "A    2240.595797   0.0   False\n",
       "B    7797.399212   0.0   False"
      ]
     },
     "execution_count": 47,
     "metadata": {},
     "output_type": "execute_result"
    }
   ],
   "source": [
    "pg.normality(data=fin_df, dv=\"rev\", group=\"grp\", method=\"normaltest\")"
   ]
  },
  {
   "cell_type": "markdown",
   "metadata": {},
   "source": [
    "Выборки достаточно большие (болше 30 наблюдений) и несмотря на проваленный тест можно применить t-тест.\n",
    "H₀: Между средними нет статистически значимых различий.(Нулевая гипотеза)\n",
    "H₁: Статистически значимые различия есть.(Альтернативная гипотеза)"
   ]
  },
  {
   "cell_type": "code",
   "execution_count": 48,
   "metadata": {},
   "outputs": [
    {
     "data": {
      "text/plain": [
       "TtestResult(statistic=-3.1337795050930985, pvalue=0.0018562025265765867, df=390.0)"
      ]
     },
     "execution_count": 48,
     "metadata": {},
     "output_type": "execute_result"
    }
   ],
   "source": [
    "stats.ttest_ind(df_1.rev, df_2.rev)"
   ]
  },
  {
   "cell_type": "markdown",
   "metadata": {},
   "source": [
    "pValue меньше 0.05, значит мы имееем право отклонить нулевую гипотезу и принять альтернативную:   \n",
    "**Мы имеем статистически-значимую разницу между двумя выборками**."
   ]
  },
  {
   "cell_type": "markdown",
   "metadata": {},
   "source": [
    "В исследовании результатов A/B-тестирования мы сравнивали 2 метрики продукта: конверсию в покупку и средний чек.  \n",
    "**Конверсия в покупку**: результаты целевой группы оказались хуже, чем результаты контрольной примерно на 0,45%(4,62% и 5,07%.\n",
    "Проведенный тест хи-квадрат не выявил статистически значимых различий между группами.  \n",
    "**Средний чек**: Средний чек у целевой группы оказался выше на 324 единицы, чем у контрольной. T-тест на равенство средних показал статистически значимые различии.\n"
   ]
  },
  {
   "cell_type": "markdown",
   "metadata": {},
   "source": [
    " ### Вывод<h3>  "
   ]
  },
  {
   "cell_type": "markdown",
   "metadata": {},
   "source": [
    "Основываясь на полученных данных, можно сделать вывод, что целевой способ оплаты увеличивает средний чек. А при схожей конверсии в покупку увеличит и общую выручку.   \n",
    "Этот вывод можно сделать только теоретически. К сожалению, практически мне мешает отсутствие некоторых второстепенных условий:\n",
    "  1. Мне не понятен принцип распределения пользователей на группы. Изначально они распределены так, что выборки получаться разными по размеру.\n",
    "  2. Для значимости эксперимента лучше делить пользователей в момент, когда они посещают сайт, а не до него. Так выборки оказались бы примерно равными по размеру.\n",
    "  3. К сожалению, в этом тесте я не имею информацию о том, насколько сильно и как поменялась механика оплаты. Ведь изменения в первую очередь должны повлиять на конверсию, а не на средний чек (конечно, если изменения повлияли на более \"дорогие\" или более \"объёмные\" покупки, то тут понятны расхождения в данных). Такое расхождение средних чеков могло бы быть, если пользователи распределены по группам не случайно, а по какому-нибудь признаку (например,город-область).  \n",
    "  \n",
    "**В итоге:** Новую механику оплаты однозначно **выпускать** на всех пользователей. "
   ]
  },
  {
   "cell_type": "markdown",
   "metadata": {},
   "source": [
    "## Задание 2. SQL<h2>\n",
    "**2.1 Очень усердные ученики.**  \n",
    "**Условие**\n",
    "\n",
    "Образовательные курсы состоят из различных уроков, каждый из которых состоит из нескольких маленьких заданий. Каждое такое маленькое задание называется \"горошиной\".\n",
    "Необходимо написать *оптимальный* запрос, который даст информацию о количестве очень усердных студентов"
   ]
  },
  {
   "cell_type": "code",
   "execution_count": 49,
   "metadata": {},
   "outputs": [],
   "source": [
    "import pandahouse as ph\n",
    "import pandas as pd\n",
    "import getpass"
   ]
  },
  {
   "cell_type": "code",
   "execution_count": 51,
   "metadata": {},
   "outputs": [
    {
     "name": "stdin",
     "output_type": "stream",
     "text": [
      "Введите свой пароль:  ········\n"
     ]
    }
   ],
   "source": [
    "#объявляем параметры подключения\n",
    "connection_default = {'host': 'https://clickhouse.lab.karpov.courses',\n",
    "                      'database':'default',\n",
    "                      'user':'student', \n",
    "                      'password':getpass.getpass('Введите свой пароль: ')\n",
    "                     }"
   ]
  },
  {
   "cell_type": "code",
   "execution_count": 52,
   "metadata": {},
   "outputs": [
    {
     "data": {
      "text/html": [
       "<div>\n",
       "<style scoped>\n",
       "    .dataframe tbody tr th:only-of-type {\n",
       "        vertical-align: middle;\n",
       "    }\n",
       "\n",
       "    .dataframe tbody tr th {\n",
       "        vertical-align: top;\n",
       "    }\n",
       "\n",
       "    .dataframe thead th {\n",
       "        text-align: right;\n",
       "    }\n",
       "</style>\n",
       "<table border=\"1\" class=\"dataframe\">\n",
       "  <thead>\n",
       "    <tr style=\"text-align: right;\">\n",
       "      <th></th>\n",
       "      <th>count_diligent_students</th>\n",
       "    </tr>\n",
       "  </thead>\n",
       "  <tbody>\n",
       "    <tr>\n",
       "      <th>0</th>\n",
       "      <td>136</td>\n",
       "    </tr>\n",
       "  </tbody>\n",
       "</table>\n",
       "</div>"
      ],
      "text/plain": [
       "   count_diligent_students\n",
       "0                      136"
      ]
     },
     "execution_count": 52,
     "metadata": {},
     "output_type": "execute_result"
    }
   ],
   "source": [
    "#пишем запрос, и получаем данные из clickhouse в pandas dataframe\n",
    "query = \"\"\"\n",
    "SELECT COUNT(st_id) AS count_diligent_students\n",
    "FROM(\n",
    "    SELECT st_id, COUNT(DISTINCT(toMonth(timest))), COUNT(correct) AS result\n",
    "    FROM default.peas\n",
    "    WHERE correct = TRUE\n",
    "    GROUP BY st_id\n",
    "    HAVING result >= 20\n",
    "    ) AS Q1\n",
    "\"\"\"\n",
    "df = ph.read_clickhouse(query, connection=connection_default)\n",
    "df"
   ]
  },
  {
   "cell_type": "markdown",
   "metadata": {},
   "source": [
    "Это оптимальный запрос для подсчёта усердных студентов. В этом запросе учитывается, что в таблице данные только за 2 два дня одного месяца. В этом случае работу со временем можно не вести."
   ]
  },
  {
   "cell_type": "code",
   "execution_count": 53,
   "metadata": {},
   "outputs": [
    {
     "data": {
      "text/html": [
       "<div>\n",
       "<style scoped>\n",
       "    .dataframe tbody tr th:only-of-type {\n",
       "        vertical-align: middle;\n",
       "    }\n",
       "\n",
       "    .dataframe tbody tr th {\n",
       "        vertical-align: top;\n",
       "    }\n",
       "\n",
       "    .dataframe thead th {\n",
       "        text-align: right;\n",
       "    }\n",
       "</style>\n",
       "<table border=\"1\" class=\"dataframe\">\n",
       "  <thead>\n",
       "    <tr style=\"text-align: right;\">\n",
       "      <th></th>\n",
       "      <th>count_diligent_students</th>\n",
       "    </tr>\n",
       "  </thead>\n",
       "  <tbody>\n",
       "    <tr>\n",
       "      <th>0</th>\n",
       "      <td>0</td>\n",
       "    </tr>\n",
       "  </tbody>\n",
       "</table>\n",
       "</div>"
      ],
      "text/plain": [
       "   count_diligent_students\n",
       "0                        0"
      ]
     },
     "execution_count": 53,
     "metadata": {},
     "output_type": "execute_result"
    }
   ],
   "source": [
    "#пишем запрос, в котором учитывается сегодняшняя дата.\n",
    "query = \"\"\"\n",
    "SELECT COUNT(st_id) AS count_diligent_students\n",
    "FROM(\n",
    "    SELECT st_id, COUNT(DISTINCT(toMonth(timest))), COUNT(correct) AS result\n",
    "    FROM default.peas\n",
    "    WHERE (correct = 1) AND (toMonth(timest) = toMonth(NOW())) AND (toYear(timest) = toYear(NOW()))\n",
    "    GROUP BY st_id\n",
    "    HAVING result >= 20\n",
    "    ) AS Q1\n",
    "\"\"\"\n",
    "df = ph.read_clickhouse(query, connection=connection_default)\n",
    "df"
   ]
  },
  {
   "cell_type": "markdown",
   "metadata": {},
   "source": [
    "Это оптимальный запрос для подсчёта усердных студентов, если бы в БД была бы текущая информация (учитывается месяц и год). Выполняется некорректно, т.к. данные в этой БД неполные."
   ]
  },
  {
   "cell_type": "markdown",
   "metadata": {},
   "source": [
    "**2.2. Оптимизация воронки.**  \n",
    "**Условие.**\n",
    "\n",
    "Образовательная платформа предлагает пройти студентам курсы по модели trial: студент может решить бесплатно лишь 30 горошин в день. Для неограниченного количества заданий в определенной дисциплине студенту необходимо приобрести полный доступ. Команда провела эксперимент, где был протестирован новый экран оплаты.\n",
    "Необходимо в одном запросе выгрузить следующую информацию о группах пользователей:\n",
    "\n",
    "- ARPU \n",
    "- ARPAU \n",
    "- CR в покупку \n",
    "- СR активного пользователя в покупку \n",
    "- CR пользователя из активности по математике (subject = ’math’) в покупку курса по математике\n",
    "- ARPU считается относительно всех пользователей, попавших в группы."
   ]
  },
  {
   "cell_type": "code",
   "execution_count": 54,
   "metadata": {},
   "outputs": [],
   "source": [
    "query = \"\"\"\n",
    "WITH  (\n",
    "SELECT COUNT(DISTINCT if(money > 0, st_id, NULL)) AS active_st\n",
    "FROM \n",
    "(SELECT st_id, SUM(correct), money\n",
    "FROM\n",
    "(SELECT st_id, toDate(timest), correct, a.subject, test_grp, toDate(sale_time), money, b.subject \n",
    "FROM (SELECT st_id, timest, correct, subject, test_grp\n",
    "    FROM peas\n",
    "FULL JOIN studs\n",
    "USING st_id) AS a\n",
    "FULL JOIN final_project_check AS b\n",
    "ON a.st_id = b.st_id\n",
    ")\n",
    "GROUP BY st_id, money\n",
    "HAVING SUM(correct) > 10)) AS active_st,\n",
    "\n",
    "(SELECT COUNT(if(buy_subject = 'Math', st_id, NULL)) / COUNT(if(sum_correct > 2, st_id, NULL)) AS cr_buy_math\n",
    "FROM\n",
    "(SELECT st_id, SUM(correct) AS sum_correct, subject, buy_subject\n",
    "FROM\n",
    "(SELECT st_id, toDate(timest), correct, a.subject AS subject, test_grp, toDate(sale_time), money, b.subject AS buy_subject\n",
    "FROM (SELECT st_id, timest, correct, subject, test_grp\n",
    "    FROM peas\n",
    "FULL JOIN studs\n",
    "USING st_id) AS a\n",
    "FULL JOIN final_project_check AS b\n",
    "ON a.st_id = b.st_id)\n",
    "WHERE subject == 'Math'\n",
    "GROUP BY st_id, subject, buy_subject)) AS cr_buy_math\n",
    "\n",
    "SELECT \n",
    "    (SUM(money) / COUNT(DISTINCT st_id)) * (COUNT(DISTINCT if(money > 0, st_id, NULL)) / COUNT(DISTINCT st_id)) AS ARPU,\n",
    "    (SUM(money) / COUNT(DISTINCT st_id)) * active_st / COUNT(DISTINCT st_id) AS ARPAU,\n",
    "    COUNT(DISTINCT if(money > 0, st_id, NULL)) / COUNT(DISTINCT st_id) AS cr_buy,\n",
    "    active_st / COUNT(DISTINCT st_id) AS cr_active,\n",
    "    cr_buy_math\n",
    "FROM\n",
    "(SELECT st_id, toDate(timest), correct, a.subject, test_grp, toDate(sale_time), money, b.subject \n",
    "FROM (SELECT st_id, timest, correct, subject, test_grp\n",
    "    FROM peas\n",
    "FULL JOIN studs\n",
    "USING st_id) AS a\n",
    "FULL JOIN final_project_check AS b\n",
    "ON a.st_id = b.st_id\n",
    ") AS st\n",
    "\n",
    "\"\"\"\n",
    "df_1 = ph.read_clickhouse(query, connection=connection_default)\n",
    "df_1.rename(columns = {'cr_buy': 'CR в покупку','cr_active':'СR активного пользователя в покупку',\n",
    "                       'cr_buy_math':'CR пользователя из активности по математике в покупку курса по математике' }, inplace = True)"
   ]
  },
  {
   "cell_type": "code",
   "execution_count": 55,
   "metadata": {
    "scrolled": true
   },
   "outputs": [
    {
     "data": {
      "text/html": [
       "<div>\n",
       "<style scoped>\n",
       "    .dataframe tbody tr th:only-of-type {\n",
       "        vertical-align: middle;\n",
       "    }\n",
       "\n",
       "    .dataframe tbody tr th {\n",
       "        vertical-align: top;\n",
       "    }\n",
       "\n",
       "    .dataframe thead th {\n",
       "        text-align: right;\n",
       "    }\n",
       "</style>\n",
       "<table border=\"1\" class=\"dataframe\">\n",
       "  <thead>\n",
       "    <tr style=\"text-align: right;\">\n",
       "      <th></th>\n",
       "      <th>ARPU</th>\n",
       "      <th>ARPAU</th>\n",
       "      <th>CR в покупку</th>\n",
       "      <th>СR активного пользователя в покупку</th>\n",
       "      <th>CR пользователя из активности по математике в покупку курса по математике</th>\n",
       "    </tr>\n",
       "  </thead>\n",
       "  <tbody>\n",
       "    <tr>\n",
       "      <th>0</th>\n",
       "      <td>28064.222222</td>\n",
       "      <td>23287.333333</td>\n",
       "      <td>0.078333</td>\n",
       "      <td>0.065</td>\n",
       "      <td>0.072917</td>\n",
       "    </tr>\n",
       "  </tbody>\n",
       "</table>\n",
       "</div>"
      ],
      "text/plain": [
       "           ARPU         ARPAU  CR в покупку  \\\n",
       "0  28064.222222  23287.333333      0.078333   \n",
       "\n",
       "   СR активного пользователя в покупку  \\\n",
       "0                                0.065   \n",
       "\n",
       "   CR пользователя из активности по математике в покупку курса по математике  \n",
       "0                                           0.072917                          "
      ]
     },
     "execution_count": 55,
     "metadata": {},
     "output_type": "execute_result"
    }
   ],
   "source": [
    "df_1"
   ]
  },
  {
   "cell_type": "markdown",
   "metadata": {},
   "source": [
    "## Задание 3. Python<h2>\n",
    "**3.1 Задача**\n",
    "\n",
    "Реализуйте функцию, которая будет автоматически подгружать информацию из дополнительного файла groups_add.csv (заголовки могут отличаться) и на основании дополнительных параметров пересчитывать метрики.\n",
    "      \n",
    "Реализуйте функцию, которая будет строить графики по получаемым метрикам."
   ]
  },
  {
   "cell_type": "code",
   "execution_count": 56,
   "metadata": {},
   "outputs": [],
   "source": [
    "def function_group_add(url):\n",
    "    key = url  \n",
    "    delimiter = ','\n",
    "    groups_add = read_df_API(key, delimiter)\n",
    "    \n",
    "    group_fin = pd.concat([group, groups_add]) #Объединяем 2 датафрейма\n",
    "    value_counts = group_fin.grp.value_counts()\n",
    "    print(f'Количество учеников по группам')\n",
    "    print(value_counts)\n",
    "    sns.countplot(x='grp', data = group_fin)\n",
    "    plt.title('Количество учеников по группам')\n",
    "    plt.show()\n",
    "    # Проверка уникальности значений столбца\n",
    "    def uniqualy(df1):\n",
    "        if len(df1) == df1.nunique():\n",
    "            print('Все значения уникальны')\n",
    "        else:\n",
    "            print('Не все значения уникальны')\n",
    "    uniqualy(group_fin.id)\n",
    "    print('\\n')\n",
    "    active_studs_group = active_studs.merge(group_fin, left_on='student_id', right_on='id', how = 'left')\n",
    "    active_studs_group = active_studs_group.drop(['id'], axis = 1)\n",
    "    sum_nan = active_studs_group.isna().sum()\n",
    "    if sum_nan[0] != 0 or sum_nan[1] != 0:\n",
    "        active_studs_group = active_studs_group.dropna()\n",
    "        print('Удаление записей с Nan')\n",
    "        print('\\n')\n",
    "    fin_df = active_studs_group.merge(checks, on = 'student_id', how = 'outer')\n",
    "    fin_df # Получаем финальный датафрейм, Nan меняем на нули: пользователь был, но не оплатил\n",
    "    fin_df.fillna(0, inplace = True)\n",
    "    bug_id = fin_df.query('grp == 0').rename(columns={'student_id' : 'id', 'grp' : 'group'})\n",
    "    bug_id = bug_id.merge(group_fin, on = 'id', how = 'left')\n",
    "    not_in_test = bug_id.grp.isna().sum()\n",
    "    bug = bug_id.grp.notna().sum()\n",
    "    print(f'Ошибки - {bug}, пользователей нераспределённых - {not_in_test}')\n",
    "    print('\\n')    \n",
    "    fin_df = fin_df.query('grp != 0')\n",
    "    uniqualy(fin_df.student_id)\n",
    "    print('\\n')\n",
    "    agg_fin_df_cr = fin_df.query('rev != 0').groupby('grp', as_index = False).agg({'student_id':'count'})\\\n",
    "        .rename(columns={'student_id':'paid'})\n",
    "    agg_fin_df_cr_all_students =  fin_df.groupby('grp', as_index = False).agg({'student_id':'count'})\\\n",
    "        .rename(columns={'student_id':'all'})\n",
    "    agg_fin_df_cr = agg_fin_df_cr.merge(agg_fin_df_cr_all_students, on = 'grp')\n",
    "    agg_fin_df_cr['cr'] = agg_fin_df_cr['paid'] / agg_fin_df_cr['all']*100\n",
    "    print('Метрика cr\\n', agg_fin_df_cr[['grp','cr']])\n",
    "    print('\\n')\n",
    "    stat, p, dof, expected = stats.chi2_contingency(agg_fin_df_cr[['paid', 'all']])\n",
    "    print(f'Коэффициент описательной статистики теста Хи-квадрат - {stat}, значение p-value - {p}') \n",
    "    print('\\n')\n",
    "    agg_fin_df = fin_df.query('rev != 0').groupby('grp', as_index = False).agg({'student_id':'count', 'rev':'sum'})\n",
    "    agg_fin_df['avg_check'] = agg_fin_df.rev / agg_fin_df.student_id\n",
    "    print('Метрика \"средний чек\"\\n\\n', agg_fin_df_cr[['grp','cr']])\n",
    "    df_1 = fin_df.query('grp == \"A\" & rev != 0')\n",
    "    df_2 = fin_df.query('grp == \"B\" & rev != 0')\n",
    "    df_boxplot = fin_df.query('rev != 0')\n",
    "    sns.boxplot(data = df_boxplot, x = 'grp', y = 'rev')\n",
    "    plt.title('Распределение \"rev\" по группам')\n",
    "    plt.show()\n",
    "    sns.displot(df_boxplot, x = 'rev', hue = 'grp')\n",
    "    plt.title('Распределение \"rev\"')\n",
    "    plt.show()\n",
    "    stat, p = stats.ttest_ind(df_1.rev, df_2.rev)\n",
    "    print(f'Значение описательной статистики t-test - {stat}, значение pValue - {p}')"
   ]
  },
  {
   "cell_type": "code",
   "execution_count": 57,
   "metadata": {},
   "outputs": [
    {
     "name": "stdout",
     "output_type": "stream",
     "text": [
      "Количество учеников по группам\n",
      "grp\n",
      "B    59883\n",
      "A    14693\n",
      "Name: count, dtype: int64\n"
     ]
    },
    {
     "data": {
      "image/png": "[encoded data removed]",
      "text/plain": [
       "<Figure size 640x480 with 1 Axes>"
      ]
     },
     "metadata": {},
     "output_type": "display_data"
    },
    {
     "name": "stdout",
     "output_type": "stream",
     "text": [
      "Все значения уникальны\n",
      "\n",
      "\n",
      "Ошибки - 149, пользователей нераспределённых - 0\n",
      "\n",
      "\n",
      "Все значения уникальны\n",
      "\n",
      "\n",
      "Метрика cr\n",
      "   grp        cr\n",
      "0   A  5.071521\n",
      "1   B  4.615611\n",
      "\n",
      "\n",
      "Коэффициент описательной статистики теста Хи-квадрат - 0.43612258061018483, значение p-value - 0.5089998823014525\n",
      "\n",
      "\n",
      "Метрика \"средний чек\"\n",
      "\n",
      "   grp        cr\n",
      "0   A  5.071521\n",
      "1   B  4.615611\n"
     ]
    },
    {
     "name": "stderr",
     "output_type": "stream",
     "text": [
      "C:\\Users\\OlegK\\AppData\\Local\\Temp\\ipykernel_20960\\3636781897.py:24: FutureWarning: Series.__getitem__ treating keys as positions is deprecated. In a future version, integer keys will always be treated as labels (consistent with DataFrame behavior). To access a value by position, use `ser.iloc[pos]`\n",
      "  if sum_nan[0] != 0 or sum_nan[1] != 0:\n"
     ]
    },
    {
     "data": {
      "image/png": "[encoded data removed]",
      "text/plain": [
       "<Figure size 640x480 with 1 Axes>"
      ]
     },
     "metadata": {},
     "output_type": "display_data"
    },
    {
     "name": "stderr",
     "output_type": "stream",
     "text": [
      "C:\\Users\\OlegK\\anaconda3\\Lib\\site-packages\\seaborn\\_oldcore.py:1119: FutureWarning: use_inf_as_na option is deprecated and will be removed in a future version. Convert inf values to NaN before operating instead.\n",
      "  with pd.option_context('mode.use_inf_as_na', True):\n"
     ]
    },
    {
     "data": {
      "image/png": "[encoded data removed]",
      "text/plain": [
       "<Figure size 559.25x500 with 1 Axes>"
      ]
     },
     "metadata": {},
     "output_type": "display_data"
    },
    {
     "name": "stdout",
     "output_type": "stream",
     "text": [
      "Значение описательной статистики t-test - -3.1337795050930985, значение pValue - 0.0018562025265765867\n"
     ]
    }
   ],
   "source": [
    "function_group_add('https://disk.yandex.ru/d/5Kxrz02m3IBUwQ')"
   ]
  }
 ],
 "metadata": {
  "kernelspec": {
   "display_name": "Python 3 (ipykernel)",
   "language": "python",
   "name": "python3"
  },
  "language_info": {
   "codemirror_mode": {
    "name": "ipython",
    "version": 3
   },
   "file_extension": ".py",
   "mimetype": "text/x-python",
   "name": "python",
   "nbconvert_exporter": "python",
   "pygments_lexer": "ipython3",
   "version": "3.11.7"
  }
 },
 "nbformat": 4,
 "nbformat_minor": 4
}
